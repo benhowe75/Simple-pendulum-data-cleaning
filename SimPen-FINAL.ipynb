{
 "cells": [
  {
   "cell_type": "markdown",
   "metadata": {},
   "source": [
    "## Simple Pendulum Data Cleaning Project"
   ]
  },
  {
   "cell_type": "code",
   "execution_count": 1,
   "metadata": {},
   "outputs": [],
   "source": [
    "import numpy as np\n",
    "import pandas as pd"
   ]
  },
  {
   "cell_type": "code",
   "execution_count": 2,
   "metadata": {},
   "outputs": [],
   "source": [
    "# IMPORTANT -- index_col=FALSE is needed to create index column!!\n",
    "# check each csv to see how many header rows need to be skipped\n",
    "df = pd.read_csv(\"160.0CM.csv\",sep=',',skiprows=23,header=(0),index_col=False)"
   ]
  },
  {
   "cell_type": "code",
   "execution_count": 3,
   "metadata": {
    "scrolled": false
   },
   "outputs": [
    {
     "data": {
      "text/html": [
       "<div>\n",
       "<style scoped>\n",
       "    .dataframe tbody tr th:only-of-type {\n",
       "        vertical-align: middle;\n",
       "    }\n",
       "\n",
       "    .dataframe tbody tr th {\n",
       "        vertical-align: top;\n",
       "    }\n",
       "\n",
       "    .dataframe thead th {\n",
       "        text-align: right;\n",
       "    }\n",
       "</style>\n",
       "<table border=\"1\" class=\"dataframe\">\n",
       "  <thead>\n",
       "    <tr style=\"text-align: right;\">\n",
       "      <th></th>\n",
       "      <th>0</th>\n",
       "      <th>5.013884</th>\n",
       "      <th>160.0 cm</th>\n",
       "    </tr>\n",
       "  </thead>\n",
       "  <tbody>\n",
       "    <tr>\n",
       "      <th>0</th>\n",
       "      <td>0.001</td>\n",
       "      <td>5.012240</td>\n",
       "      <td>NaN</td>\n",
       "    </tr>\n",
       "    <tr>\n",
       "      <th>1</th>\n",
       "      <td>0.002</td>\n",
       "      <td>5.012569</td>\n",
       "      <td>NaN</td>\n",
       "    </tr>\n",
       "    <tr>\n",
       "      <th>2</th>\n",
       "      <td>0.003</td>\n",
       "      <td>5.014541</td>\n",
       "      <td>NaN</td>\n",
       "    </tr>\n",
       "    <tr>\n",
       "      <th>3</th>\n",
       "      <td>0.004</td>\n",
       "      <td>5.013884</td>\n",
       "      <td>NaN</td>\n",
       "    </tr>\n",
       "    <tr>\n",
       "      <th>4</th>\n",
       "      <td>0.005</td>\n",
       "      <td>5.012569</td>\n",
       "      <td>NaN</td>\n",
       "    </tr>\n",
       "  </tbody>\n",
       "</table>\n",
       "</div>"
      ],
      "text/plain": [
       "       0  5.013884  160.0 cm\n",
       "0  0.001  5.012240       NaN\n",
       "1  0.002  5.012569       NaN\n",
       "2  0.003  5.014541       NaN\n",
       "3  0.004  5.013884       NaN\n",
       "4  0.005  5.012569       NaN"
      ]
     },
     "execution_count": 3,
     "metadata": {},
     "output_type": "execute_result"
    }
   ],
   "source": [
    "df.head()"
   ]
  },
  {
   "cell_type": "code",
   "execution_count": 4,
   "metadata": {},
   "outputs": [],
   "source": [
    "df_2 = df.drop(df.columns[2],axis=1)"
   ]
  },
  {
   "cell_type": "code",
   "execution_count": 5,
   "metadata": {},
   "outputs": [],
   "source": [
    "# rename the headers so they can be manipulated more easily\n",
    "df_2.columns=['Time','Voltage']"
   ]
  },
  {
   "cell_type": "code",
   "execution_count": 6,
   "metadata": {
    "scrolled": true
   },
   "outputs": [
    {
     "data": {
      "text/html": [
       "<div>\n",
       "<style scoped>\n",
       "    .dataframe tbody tr th:only-of-type {\n",
       "        vertical-align: middle;\n",
       "    }\n",
       "\n",
       "    .dataframe tbody tr th {\n",
       "        vertical-align: top;\n",
       "    }\n",
       "\n",
       "    .dataframe thead th {\n",
       "        text-align: right;\n",
       "    }\n",
       "</style>\n",
       "<table border=\"1\" class=\"dataframe\">\n",
       "  <thead>\n",
       "    <tr style=\"text-align: right;\">\n",
       "      <th></th>\n",
       "      <th>Time</th>\n",
       "      <th>Voltage</th>\n",
       "    </tr>\n",
       "  </thead>\n",
       "  <tbody>\n",
       "    <tr>\n",
       "      <th>0</th>\n",
       "      <td>0.001</td>\n",
       "      <td>5.012240</td>\n",
       "    </tr>\n",
       "    <tr>\n",
       "      <th>1</th>\n",
       "      <td>0.002</td>\n",
       "      <td>5.012569</td>\n",
       "    </tr>\n",
       "    <tr>\n",
       "      <th>2</th>\n",
       "      <td>0.003</td>\n",
       "      <td>5.014541</td>\n",
       "    </tr>\n",
       "    <tr>\n",
       "      <th>3</th>\n",
       "      <td>0.004</td>\n",
       "      <td>5.013884</td>\n",
       "    </tr>\n",
       "    <tr>\n",
       "      <th>4</th>\n",
       "      <td>0.005</td>\n",
       "      <td>5.012569</td>\n",
       "    </tr>\n",
       "  </tbody>\n",
       "</table>\n",
       "</div>"
      ],
      "text/plain": [
       "    Time   Voltage\n",
       "0  0.001  5.012240\n",
       "1  0.002  5.012569\n",
       "2  0.003  5.014541\n",
       "3  0.004  5.013884\n",
       "4  0.005  5.012569"
      ]
     },
     "execution_count": 6,
     "metadata": {},
     "output_type": "execute_result"
    }
   ],
   "source": [
    "df_2.head()"
   ]
  },
  {
   "cell_type": "code",
   "execution_count": 7,
   "metadata": {},
   "outputs": [],
   "source": [
    "df_2 = df_2.apply(pd.to_numeric)"
   ]
  },
  {
   "cell_type": "markdown",
   "metadata": {},
   "source": [
    "Now, we drop everything except for the average times for each instance of the voltage dropping to less than 1 volt."
   ]
  },
  {
   "cell_type": "code",
   "execution_count": 8,
   "metadata": {},
   "outputs": [],
   "source": [
    "# This selects only the rows where the voltage meets my condition\n",
    "minima = df_2[df_2['Voltage']<=1.0]"
   ]
  },
  {
   "cell_type": "code",
   "execution_count": 9,
   "metadata": {},
   "outputs": [
    {
     "data": {
      "text/plain": [
       "174"
      ]
     },
     "execution_count": 9,
     "metadata": {},
     "output_type": "execute_result"
    }
   ],
   "source": [
    "len(minima)\n",
    "#minima.head()"
   ]
  },
  {
   "cell_type": "code",
   "execution_count": 10,
   "metadata": {},
   "outputs": [
    {
     "data": {
      "text/plain": [
       "2.538790250376209"
      ]
     },
     "execution_count": 10,
     "metadata": {},
     "output_type": "execute_result"
    }
   ],
   "source": [
    "length = 1.60\n",
    "g = 9.8\n",
    "period_exp = 2*np.pi*np.sqrt(length/g)\n",
    "period_exp"
   ]
  },
  {
   "cell_type": "code",
   "execution_count": 11,
   "metadata": {},
   "outputs": [
    {
     "data": {
      "text/plain": [
       "0.244"
      ]
     },
     "execution_count": 11,
     "metadata": {},
     "output_type": "execute_result"
    }
   ],
   "source": [
    "start_time = minima.iloc[0,0] #this gives me the time of the first instance of pendulum passing through the photogate\n",
    "start_time"
   ]
  },
  {
   "cell_type": "code",
   "execution_count": 12,
   "metadata": {},
   "outputs": [
    {
     "name": "stdout",
     "output_type": "stream",
     "text": [
      "[0.194, 1.4633951251881046, 2.732790250376209, 4.002185375564314, 5.271580500752418, 6.540975625940523, 7.8103707511286276, 9.079765876316733, 10.349161001504838, 11.618556126692942, 12.887951251881047]\n"
     ]
    }
   ],
   "source": [
    "bins = [(start_time-.05) + period_exp/2*n for n in range(0,11)] #change the end value to limit the number of bins\n",
    "print(bins)"
   ]
  },
  {
   "cell_type": "code",
   "execution_count": 13,
   "metadata": {},
   "outputs": [],
   "source": [
    "binned = pd.cut(minima['Time'], bins)"
   ]
  },
  {
   "cell_type": "code",
   "execution_count": 14,
   "metadata": {},
   "outputs": [
    {
     "data": {
      "text/html": [
       "<div>\n",
       "<style scoped>\n",
       "    .dataframe tbody tr th:only-of-type {\n",
       "        vertical-align: middle;\n",
       "    }\n",
       "\n",
       "    .dataframe tbody tr th {\n",
       "        vertical-align: top;\n",
       "    }\n",
       "\n",
       "    .dataframe thead th {\n",
       "        text-align: right;\n",
       "    }\n",
       "</style>\n",
       "<table border=\"1\" class=\"dataframe\">\n",
       "  <thead>\n",
       "    <tr style=\"text-align: right;\">\n",
       "      <th></th>\n",
       "      <th>count</th>\n",
       "      <th>sum</th>\n",
       "      <th>min</th>\n",
       "      <th>max</th>\n",
       "      <th>mean</th>\n",
       "    </tr>\n",
       "    <tr>\n",
       "      <th>Time</th>\n",
       "      <th></th>\n",
       "      <th></th>\n",
       "      <th></th>\n",
       "      <th></th>\n",
       "      <th></th>\n",
       "    </tr>\n",
       "  </thead>\n",
       "  <tbody>\n",
       "    <tr>\n",
       "      <th>(0.194, 1.463]</th>\n",
       "      <td>29</td>\n",
       "      <td>7.482</td>\n",
       "      <td>0.244</td>\n",
       "      <td>0.272</td>\n",
       "      <td>0.258</td>\n",
       "    </tr>\n",
       "    <tr>\n",
       "      <th>(1.463, 2.733]</th>\n",
       "      <td>29</td>\n",
       "      <td>44.515</td>\n",
       "      <td>1.521</td>\n",
       "      <td>1.549</td>\n",
       "      <td>1.535</td>\n",
       "    </tr>\n",
       "    <tr>\n",
       "      <th>(2.733, 4.002]</th>\n",
       "      <td>29</td>\n",
       "      <td>81.200</td>\n",
       "      <td>2.786</td>\n",
       "      <td>2.814</td>\n",
       "      <td>2.800</td>\n",
       "    </tr>\n",
       "    <tr>\n",
       "      <th>(4.002, 5.272]</th>\n",
       "      <td>29</td>\n",
       "      <td>118.233</td>\n",
       "      <td>4.063</td>\n",
       "      <td>4.091</td>\n",
       "      <td>4.077</td>\n",
       "    </tr>\n",
       "    <tr>\n",
       "      <th>(5.272, 6.541]</th>\n",
       "      <td>29</td>\n",
       "      <td>154.918</td>\n",
       "      <td>5.328</td>\n",
       "      <td>5.356</td>\n",
       "      <td>5.342</td>\n",
       "    </tr>\n",
       "    <tr>\n",
       "      <th>(6.541, 7.81]</th>\n",
       "      <td>29</td>\n",
       "      <td>191.951</td>\n",
       "      <td>6.605</td>\n",
       "      <td>6.633</td>\n",
       "      <td>6.619</td>\n",
       "    </tr>\n",
       "    <tr>\n",
       "      <th>(7.81, 9.08]</th>\n",
       "      <td>0</td>\n",
       "      <td>0.000</td>\n",
       "      <td>NaN</td>\n",
       "      <td>NaN</td>\n",
       "      <td>NaN</td>\n",
       "    </tr>\n",
       "    <tr>\n",
       "      <th>(9.08, 10.349]</th>\n",
       "      <td>0</td>\n",
       "      <td>0.000</td>\n",
       "      <td>NaN</td>\n",
       "      <td>NaN</td>\n",
       "      <td>NaN</td>\n",
       "    </tr>\n",
       "    <tr>\n",
       "      <th>(10.349, 11.619]</th>\n",
       "      <td>0</td>\n",
       "      <td>0.000</td>\n",
       "      <td>NaN</td>\n",
       "      <td>NaN</td>\n",
       "      <td>NaN</td>\n",
       "    </tr>\n",
       "    <tr>\n",
       "      <th>(11.619, 12.888]</th>\n",
       "      <td>0</td>\n",
       "      <td>0.000</td>\n",
       "      <td>NaN</td>\n",
       "      <td>NaN</td>\n",
       "      <td>NaN</td>\n",
       "    </tr>\n",
       "  </tbody>\n",
       "</table>\n",
       "</div>"
      ],
      "text/plain": [
       "                  count      sum    min    max   mean\n",
       "Time                                                 \n",
       "(0.194, 1.463]       29    7.482  0.244  0.272  0.258\n",
       "(1.463, 2.733]       29   44.515  1.521  1.549  1.535\n",
       "(2.733, 4.002]       29   81.200  2.786  2.814  2.800\n",
       "(4.002, 5.272]       29  118.233  4.063  4.091  4.077\n",
       "(5.272, 6.541]       29  154.918  5.328  5.356  5.342\n",
       "(6.541, 7.81]        29  191.951  6.605  6.633  6.619\n",
       "(7.81, 9.08]          0    0.000    NaN    NaN    NaN\n",
       "(9.08, 10.349]        0    0.000    NaN    NaN    NaN\n",
       "(10.349, 11.619]      0    0.000    NaN    NaN    NaN\n",
       "(11.619, 12.888]      0    0.000    NaN    NaN    NaN"
      ]
     },
     "execution_count": 14,
     "metadata": {},
     "output_type": "execute_result"
    }
   ],
   "source": [
    "output = minima.groupby(binned)['Time'].agg(['count', 'sum', 'min', 'max', 'mean'])\n",
    "output"
   ]
  },
  {
   "cell_type": "code",
   "execution_count": 15,
   "metadata": {},
   "outputs": [
    {
     "data": {
      "text/html": [
       "<div>\n",
       "<style scoped>\n",
       "    .dataframe tbody tr th:only-of-type {\n",
       "        vertical-align: middle;\n",
       "    }\n",
       "\n",
       "    .dataframe tbody tr th {\n",
       "        vertical-align: top;\n",
       "    }\n",
       "\n",
       "    .dataframe thead th {\n",
       "        text-align: right;\n",
       "    }\n",
       "</style>\n",
       "<table border=\"1\" class=\"dataframe\">\n",
       "  <thead>\n",
       "    <tr style=\"text-align: right;\">\n",
       "      <th></th>\n",
       "      <th>count</th>\n",
       "      <th>sum</th>\n",
       "      <th>min</th>\n",
       "      <th>max</th>\n",
       "      <th>mean</th>\n",
       "    </tr>\n",
       "    <tr>\n",
       "      <th>Time</th>\n",
       "      <th></th>\n",
       "      <th></th>\n",
       "      <th></th>\n",
       "      <th></th>\n",
       "      <th></th>\n",
       "    </tr>\n",
       "  </thead>\n",
       "  <tbody>\n",
       "    <tr>\n",
       "      <th>(0.194, 1.463]</th>\n",
       "      <td>29</td>\n",
       "      <td>7.482</td>\n",
       "      <td>0.244</td>\n",
       "      <td>0.272</td>\n",
       "      <td>0.258</td>\n",
       "    </tr>\n",
       "    <tr>\n",
       "      <th>(1.463, 2.733]</th>\n",
       "      <td>29</td>\n",
       "      <td>44.515</td>\n",
       "      <td>1.521</td>\n",
       "      <td>1.549</td>\n",
       "      <td>1.535</td>\n",
       "    </tr>\n",
       "    <tr>\n",
       "      <th>(2.733, 4.002]</th>\n",
       "      <td>29</td>\n",
       "      <td>81.200</td>\n",
       "      <td>2.786</td>\n",
       "      <td>2.814</td>\n",
       "      <td>2.800</td>\n",
       "    </tr>\n",
       "    <tr>\n",
       "      <th>(4.002, 5.272]</th>\n",
       "      <td>29</td>\n",
       "      <td>118.233</td>\n",
       "      <td>4.063</td>\n",
       "      <td>4.091</td>\n",
       "      <td>4.077</td>\n",
       "    </tr>\n",
       "    <tr>\n",
       "      <th>(5.272, 6.541]</th>\n",
       "      <td>29</td>\n",
       "      <td>154.918</td>\n",
       "      <td>5.328</td>\n",
       "      <td>5.356</td>\n",
       "      <td>5.342</td>\n",
       "    </tr>\n",
       "    <tr>\n",
       "      <th>(6.541, 7.81]</th>\n",
       "      <td>29</td>\n",
       "      <td>191.951</td>\n",
       "      <td>6.605</td>\n",
       "      <td>6.633</td>\n",
       "      <td>6.619</td>\n",
       "    </tr>\n",
       "  </tbody>\n",
       "</table>\n",
       "</div>"
      ],
      "text/plain": [
       "                count      sum    min    max   mean\n",
       "Time                                               \n",
       "(0.194, 1.463]     29    7.482  0.244  0.272  0.258\n",
       "(1.463, 2.733]     29   44.515  1.521  1.549  1.535\n",
       "(2.733, 4.002]     29   81.200  2.786  2.814  2.800\n",
       "(4.002, 5.272]     29  118.233  4.063  4.091  4.077\n",
       "(5.272, 6.541]     29  154.918  5.328  5.356  5.342\n",
       "(6.541, 7.81]      29  191.951  6.605  6.633  6.619"
      ]
     },
     "execution_count": 15,
     "metadata": {},
     "output_type": "execute_result"
    }
   ],
   "source": [
    "output2 = output[0:-4] #this has to be done manually b/c I can't get dropna() command to work correctly\n",
    "output2"
   ]
  },
  {
   "cell_type": "code",
   "execution_count": 16,
   "metadata": {
    "scrolled": true
   },
   "outputs": [],
   "source": [
    "output2.to_csv ('output_1600.csv', index = True, header=True)"
   ]
  },
  {
   "cell_type": "code",
   "execution_count": null,
   "metadata": {},
   "outputs": [],
   "source": []
  }
 ],
 "metadata": {
  "kernelspec": {
   "display_name": "Python 3",
   "language": "python",
   "name": "python3"
  },
  "language_info": {
   "codemirror_mode": {
    "name": "ipython",
    "version": 3
   },
   "file_extension": ".py",
   "mimetype": "text/x-python",
   "name": "python",
   "nbconvert_exporter": "python",
   "pygments_lexer": "ipython3",
   "version": "3.7.1"
  }
 },
 "nbformat": 4,
 "nbformat_minor": 2
}
